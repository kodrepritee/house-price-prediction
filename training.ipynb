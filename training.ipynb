{
 "cells": [
  {
   "cell_type": "code",
   "execution_count": 1,
   "metadata": {},
   "outputs": [
    {
     "name": "stdout",
     "output_type": "stream",
     "text": [
      "Coefficients: [-105510.55942228   37474.81687134     427.52321855    1784.78454488]\n",
      "Intercept: 30319.39293688361\n",
      "Training set accuracy: 0.9850239945752916\n",
      "Test set accuracy: 0.9533146378521392\n"
     ]
    }
   ],
   "source": [
    "import pandas as pd\n",
    "from sklearn.model_selection import train_test_split\n",
    "from sklearn.linear_model import LinearRegression\n",
    "from sklearn.preprocessing import LabelEncoder\n",
    "\n",
    "# Load the dataset\n",
    "data = pd.read_csv('data.csv')\n",
    "\n",
    "# Select specific columns for training\n",
    "# Encode the 'location' column\n",
    "label_encoder = LabelEncoder()\n",
    "data['location'] = label_encoder.fit_transform(data['location'])\n",
    "\n",
    "\n",
    "# Select specific columns for training\n",
    "X = data[['bedrooms', 'bathrooms', 'sqft', 'location']]\n",
    "y = data['price']\n",
    "\n",
    "# Split the data into training and testing sets\n",
    "X_train, X_test, y_train, y_test = train_test_split(X, y, test_size=0.2, random_state=42)\n",
    "\n",
    "# Train the regression model\n",
    "model = LinearRegression()\n",
    "model.fit(X_train, y_train)\n",
    "\n",
    "# Print the model coefficients\n",
    "print(\"Coefficients:\", model.coef_)\n",
    "print(\"Intercept:\", model.intercept_)\n",
    "# Calculate accuracy on the training set\n",
    "train_score = model.score(X_train, y_train)\n",
    "print(\"Training set accuracy:\", train_score)\n",
    "\n",
    "# Calculate accuracy on the test set\n",
    "test_score = model.score(X_test, y_test)\n",
    "print(\"Test set accuracy:\", test_score)\n"
   ]
  },
  {
   "cell_type": "code",
   "execution_count": 2,
   "metadata": {},
   "outputs": [
    {
     "data": {
      "text/plain": [
       "['models/location_encoder.pkl']"
      ]
     },
     "execution_count": 2,
     "metadata": {},
     "output_type": "execute_result"
    }
   ],
   "source": [
    "import joblib\n",
    "\n",
    "# Save the trained model to a file\n",
    "joblib.dump(model, 'models/trained_model.pkl')\n",
    "# Save the encoder\n",
    "joblib.dump(label_encoder, 'models/location_encoder.pkl')"
   ]
  },
  {
   "cell_type": "code",
   "execution_count": null,
   "metadata": {},
   "outputs": [],
   "source": []
  }
 ],
 "metadata": {
  "kernelspec": {
   "display_name": "openai",
   "language": "python",
   "name": "python3"
  },
  "language_info": {
   "codemirror_mode": {
    "name": "ipython",
    "version": 3
   },
   "file_extension": ".py",
   "mimetype": "text/x-python",
   "name": "python",
   "nbconvert_exporter": "python",
   "pygments_lexer": "ipython3",
   "version": "3.11.11"
  }
 },
 "nbformat": 4,
 "nbformat_minor": 2
}
